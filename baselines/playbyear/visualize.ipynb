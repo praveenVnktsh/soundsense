{
 "cells": [
  {
   "cell_type": "code",
   "execution_count": 8,
   "metadata": {},
   "outputs": [],
   "source": [
    "import torch\n",
    "import torch.nn as nn\n",
    "import numpy as np\n",
    "import json\n",
    "import pickle"
   ]
  },
  {
   "cell_type": "code",
   "execution_count": 3,
   "metadata": {},
   "outputs": [],
   "source": [
    "agent_action = torch.Tensor([[ 0.0185,  0.0217,  0.0170, -0.0090,  0.0075],\n",
    "        [ 0.0235,  0.0206,  0.0198, -0.0074,  0.0077],\n",
    "        [ 0.0234,  0.0186,  0.0144, -0.0036,  0.0023],\n",
    "        [ 0.0225,  0.0157,  0.0159, -0.0114,  0.0123],\n",
    "        [ 0.0168,  0.0143,  0.0134, -0.0068,  0.0071],\n",
    "        [ 0.0226,  0.0184,  0.0159, -0.0087,  0.0081],\n",
    "        [ 0.0155,  0.0266,  0.0161, -0.0061,  0.0020],\n",
    "        [ 0.0141,  0.0161,  0.0143, -0.0066,  0.0084],\n",
    "        [ 0.0214,  0.0107,  0.0130, -0.0052, -0.0024],\n",
    "        [ 0.0195,  0.0126,  0.0162, -0.0129,  0.0127],\n",
    "        [ 0.0218,  0.0176,  0.0182, -0.0083,  0.0085],\n",
    "        [ 0.0181,  0.0174,  0.0149, -0.0108,  0.0064],\n",
    "        [ 0.0183,  0.0144,  0.0140,  0.0015, -0.0010],\n",
    "        [ 0.0218,  0.0108,  0.0145, -0.0051, -0.0005],\n",
    "        [ 0.0203,  0.0197,  0.0186, -0.0082,  0.0066],\n",
    "        [ 0.0129,  0.0127,  0.0084, -0.0087,  0.0105]])\n",
    "action = torch.Tensor([[-6.4015e-04,  1.0610e-02,  1.2541e-02, -1.1066e-01,  0.0000e+00],\n",
    "        [-1.4914e-03, -2.8753e-03,  2.2535e-02,  6.2789e+00,  0.0000e+00],\n",
    "        [ 1.7700e+00, -1.0656e-35,  1.8041e+00, -2.9986e-25,  1.7786e+00],\n",
    "        [-9.3561e-03,  2.0075e-03, -8.4825e-03,  8.3081e-03,  1.0000e+00],\n",
    "        [-1.8544e-03,  3.1689e-03, -2.3804e-02,  3.5558e-02,  1.0000e+00],\n",
    "        [ 2.4229e-03,  5.3765e-03, -3.1524e-03,  1.7715e-02,  1.0000e+00],\n",
    "        [-4.4612e+20,  1.2689e+00, -7.3951e-15,  1.8148e+00,  2.3202e-21],\n",
    "        [ 5.3011e-24,  1.8029e+00,  8.4067e-17,  1.8518e+00, -8.4763e+03],\n",
    "        [ 7.7971e-01,  5.4549e-14,  1.1337e+00,  0.0000e+00,  1.8750e+00],\n",
    "        [-7.3176e-04, -5.5679e-05,  6.3297e-04, -8.7974e-03,  1.0000e+00],\n",
    "        [ 1.2218e-03, -8.1694e-03,  1.5496e-02, -3.2979e-03,  0.0000e+00],\n",
    "        [-1.2951e-03, -1.2700e-04, -3.0370e-04, -8.5674e-03,  0.0000e+00],\n",
    "        [ 1.6454e+19,  9.8249e+14,  3.9729e+21,  1.0194e+18,  6.0854e+13],\n",
    "        [ 1.4225e-13,  9.4439e-15,  1.4244e-19,  1.4225e-13,  9.4439e-15],\n",
    "        [ 2.3155e-03, -1.7461e-04, -1.4770e-03, -4.4982e-03,  0.0000e+00],\n",
    "        [-4.3872e-03, -6.3622e-03, -1.0290e-03,  3.7349e-02,  1.0000e+00]],\n",
    "       )"
   ]
  },
  {
   "cell_type": "code",
   "execution_count": 6,
   "metadata": {},
   "outputs": [],
   "source": [
    "action_path = '/home/punygod_admin/SoundSense/soundsense/data/processed/2024-02-27_19-40-16.json'\n",
    "gt_actions = np.array(json.load(open(action_path)))"
   ]
  },
  {
   "cell_type": "code",
   "execution_count": 7,
   "metadata": {},
   "outputs": [
    {
     "data": {
      "text/plain": [
       "array([[ 0.        ,  0.        ,  0.        ,  0.        ,  0.        ],\n",
       "       [-0.00346776, -0.00119888,  0.01089136, -0.00991188,  0.        ],\n",
       "       [-0.00316847, -0.0010499 ,  0.00916835, -0.00592262,  0.        ],\n",
       "       ...,\n",
       "       [-0.00050548, -0.00036268, -0.0035342 , -0.00900838,  0.        ],\n",
       "       [ 0.00064284, -0.00124516,  0.00302223, -0.00931643,  0.        ],\n",
       "       [ 0.00032217,  0.00128817, -0.0129237 ,  0.        ,  0.        ]])"
      ]
     },
     "execution_count": 7,
     "metadata": {},
     "output_type": "execute_result"
    }
   ],
   "source": [
    "gt_actions"
   ]
  },
  {
   "cell_type": "code",
   "execution_count": 10,
   "metadata": {},
   "outputs": [],
   "source": [
    "# load pkl\n",
    "replay_buffer = pickle.load(open('/home/punygod_admin/SoundSense/soundsense/data/playbyear_pkls/pbe_1.pkl', 'rb'))"
   ]
  },
  {
   "cell_type": "code",
   "execution_count": 12,
   "metadata": {},
   "outputs": [
    {
     "data": {
      "text/plain": [
       "['__add__',\n",
       " '__class__',\n",
       " '__class_getitem__',\n",
       " '__delattr__',\n",
       " '__dict__',\n",
       " '__dir__',\n",
       " '__doc__',\n",
       " '__eq__',\n",
       " '__format__',\n",
       " '__ge__',\n",
       " '__getattribute__',\n",
       " '__getitem__',\n",
       " '__gt__',\n",
       " '__hash__',\n",
       " '__init__',\n",
       " '__init_subclass__',\n",
       " '__iter__',\n",
       " '__le__',\n",
       " '__len__',\n",
       " '__lt__',\n",
       " '__module__',\n",
       " '__ne__',\n",
       " '__new__',\n",
       " '__orig_bases__',\n",
       " '__parameters__',\n",
       " '__reduce__',\n",
       " '__reduce_ex__',\n",
       " '__repr__',\n",
       " '__setattr__',\n",
       " '__sizeof__',\n",
       " '__slots__',\n",
       " '__str__',\n",
       " '__subclasshook__',\n",
       " '__weakref__',\n",
       " '_is_protocol',\n",
       " 'action_shape',\n",
       " 'add',\n",
       " 'allEpisodes',\n",
       " 'device',\n",
       " 'episodeLength',\n",
       " 'full',\n",
       " 'idx',\n",
       " 'image_pad',\n",
       " 'numEpisodes',\n",
       " 'obs_shape',\n",
       " 'sampleRollout',\n",
       " 'set_sample_settings']"
      ]
     },
     "execution_count": 12,
     "metadata": {},
     "output_type": "execute_result"
    }
   ],
   "source": [
    "dir(replay_buffer)"
   ]
  },
  {
   "cell_type": "code",
   "execution_count": 4,
   "metadata": {},
   "outputs": [
    {
     "name": "stdout",
     "output_type": "stream",
     "text": [
      "tensor(inf)\n"
     ]
    }
   ],
   "source": [
    "loss = nn.MSELoss()\n",
    "print(loss(action, agent_action))"
   ]
  }
 ],
 "metadata": {
  "kernelspec": {
   "display_name": "playbyear",
   "language": "python",
   "name": "python3"
  },
  "language_info": {
   "codemirror_mode": {
    "name": "ipython",
    "version": 3
   },
   "file_extension": ".py",
   "mimetype": "text/x-python",
   "name": "python",
   "nbconvert_exporter": "python",
   "pygments_lexer": "ipython3",
   "version": "3.9.18"
  }
 },
 "nbformat": 4,
 "nbformat_minor": 2
}
