{
 "cells": [
  {
   "cell_type": "markdown",
   "metadata": {},
   "source": [
    "## move the data in a folder"
   ]
  },
  {
   "cell_type": "code",
   "execution_count": null,
   "metadata": {},
   "outputs": [],
   "source": [
    "import os\n",
    "import shutil\n",
    "\n",
    "data_path = '/home/punygod_admin/SoundSense/soundsense/data/mulsa/data'\n",
    "source_dir = main_path = '/home/punygod_admin/SoundSense/soundsense/data/mulsa/data_unmodified'\n",
    "destination_dir = main_path = '/home/punygod_admin/SoundSense/soundsense/data/mulsa/data_final'\n",
    "# Get a list of folders in the source directory\n",
    "folders = [folder for folder in os.listdir(data_path) if os.path.isdir(os.path.join(data_path, folder))]\n",
    "\n",
    "folders = sorted(folders, key=lambda x: int(x))\n",
    "print(folders)\n",
    "# Transfer each folder to the destination directory\n",
    "for folder in folders:\n",
    "    if int(folder) < 77:\n",
    "        continue\n",
    "    source_path = os.path.join(source_dir, folder)\n",
    "    destination_path = os.path.join(destination_dir, folder)\n",
    "    shutil.move(source_path, destination_path)\n",
    "    print(f\"Moved folder '{folder}' to '{destination_dir}'.\")\n",
    "\n",
    "\n"
   ]
  },
  {
   "cell_type": "markdown",
   "metadata": {},
   "source": [
    "## removes first five frames"
   ]
  },
  {
   "cell_type": "code",
   "execution_count": null,
   "metadata": {},
   "outputs": [],
   "source": [
    "import cv2\n",
    "import os\n",
    "\n",
    "\n",
    "## remove first five frames from each video folder\n",
    "data_path = '/home/punygod_admin/SoundSense/soundsense/data/mulsa/data_final'\n",
    "\n",
    "folders = sorted(folder for folder in os.listdir(data_path) if os.path.isdir(os.path.join(data_path, folder)))\n",
    "folders = sorted(folders, key=lambda x: int(x))\n",
    "# Print the sorted folders\n",
    "for folder in folders:\n",
    "    # if folder == '1':\n",
    "    #     continue\n",
    "    print(folder)\n",
    "    video_path = data_path + '/' + folder + '/video/'\n",
    "    j = 0\n",
    "    for file in sorted(os.listdir(video_path)):\n",
    "        j += 1\n",
    "        if file.endswith('.png') and j < 6:\n",
    "            os.remove(video_path + file)\n",
    "            print('Removed: ', file)\n",
    "        if j >= 6:\n",
    "            break"
   ]
  },
  {
   "cell_type": "markdown",
   "metadata": {},
   "source": [
    "## renames frames"
   ]
  },
  {
   "cell_type": "code",
   "execution_count": null,
   "metadata": {},
   "outputs": [],
   "source": [
    "## rename the files starting from 00001.png\n",
    "\n",
    "data_path = '/home/punygod_admin/SoundSense/soundsense/data/mulsa/data'\n",
    "for folder in folders:\n",
    "    if folder == '1':\n",
    "        continue\n",
    "    print(folder)\n",
    "    video_path = data_path + '/' + folder + '/video/'\n",
    "    j = 0\n",
    "    for file in sorted(os.listdir(video_path)):\n",
    "        j += 1\n",
    "        if file.endswith('.png'):\n",
    "            os.rename(video_path + file, video_path + str(j).zfill(5) + '.png')\n",
    "            print('Renamed: ', file, ' to ', str(j).zfill(5) + '.png')"
   ]
  },
  {
   "cell_type": "markdown",
   "metadata": {},
   "source": [
    "## removes action stamps"
   ]
  },
  {
   "cell_type": "code",
   "execution_count": null,
   "metadata": {},
   "outputs": [],
   "source": [
    "## remove first five lines from txt file\n",
    "\n",
    "data_path = '/home/punygod_admin/SoundSense/soundsense/data/mulsa/data'\n",
    "folders = sorted(folder for folder in os.listdir(data_path) if os.path.isdir(os.path.join(data_path, folder)))\n",
    "for folder in folders:\n",
    "    print(folder)\n",
    "    action_path = data_path + '/' + folder + '/keyboard_teleop.txt'\n",
    "    ## read lines and delete first five lines from action path\n",
    "    with open(action_path, 'r') as file:\n",
    "        lines = file.readlines()\n",
    "        print(lines[5:])\n",
    "    \n",
    "    with open(action_path, 'w') as file:\n",
    "        file.writelines(lines[5:])\n",
    "        print(lines[5:])\n",
    "    print('Removed first five lines from: ', action_path)\n",
    "\n"
   ]
  },
  {
   "cell_type": "markdown",
   "metadata": {},
   "source": [
    "## writes the deleted time stamps in txt file"
   ]
  },
  {
   "cell_type": "code",
   "execution_count": null,
   "metadata": {},
   "outputs": [],
   "source": [
    "\n",
    "\n",
    "data_path = '/home/punygod_admin/SoundSense/soundsense/data/mulsa/data'\n",
    "main_path = '/home/punygod_admin/SoundSense/soundsense/data/mulsa/data_unmodified'\n",
    "folders = sorted(folder for folder in os.listdir(data_path) if os.path.isdir(os.path.join(data_path, folder)))\n",
    "\n",
    "folders = sorted(folders, key=lambda x: int(x))\n",
    "print(folders)\n",
    "# print(type(folders[0]), int(folders[0]))\n",
    "# Print the sorted folders\n",
    "\n",
    "# open a txt file and write the file names\n",
    "for folder in folders:\n",
    "  if (int(folder) > 76):\n",
    "    print(folder)\n",
    "  \n",
    "    video_path = main_path + '/' + folder + '/video/'\n",
    "    with open('/home/punygod_admin/SoundSense/soundsense/data/mulsa/' + 'timestamps_frames.txt', 'a') as f:\n",
    "        f.write(folder + '\\n')\n",
    "    j = 0\n",
    "    for file in sorted(os.listdir(video_path)):\n",
    "        ## extract the file names of first five in each folder\n",
    "        j += 1\n",
    "        if j < 6:\n",
    "            with open('/home/punygod_admin/SoundSense/soundsense/data/mulsa/' + 'timestamps_frames.txt', 'a') as f:\n",
    "                f.write(file[:-4] + '\\n')\n",
    "                print(file)\n",
    "        if j >= 6:\n",
    "            break\n"
   ]
  },
  {
   "cell_type": "code",
   "execution_count": null,
   "metadata": {},
   "outputs": [],
   "source": []
  }
 ],
 "metadata": {
  "kernelspec": {
   "display_name": "muls",
   "language": "python",
   "name": "python3"
  },
  "language_info": {
   "codemirror_mode": {
    "name": "ipython",
    "version": 3
   },
   "file_extension": ".py",
   "mimetype": "text/x-python",
   "name": "python",
   "nbconvert_exporter": "python",
   "pygments_lexer": "ipython3",
   "version": "3.10.14"
  }
 },
 "nbformat": 4,
 "nbformat_minor": 2
}
